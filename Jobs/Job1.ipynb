{
 "cells": [
  {
   "cell_type": "code",
   "execution_count": 0,
   "metadata": {
    "application/vnd.databricks.v1+cell": {
     "cellMetadata": {},
     "inputWidgets": {},
     "nuid": "8927422e-6665-486d-abd6-b1e3f40e1b68",
     "showTitle": false,
     "tableResultSettingsMap": {},
     "title": ""
    }
   },
   "outputs": [],
   "source": [
    "{\n",
    "  \"name\": \"Job1\",\n",
    "  \"email_notifications\": {\n",
    "    \"no_alert_for_skipped_runs\": false\n",
    "  },\n",
    "  \"webhook_notifications\": {},\n",
    "  \"timeout_seconds\": 0,\n",
    "  \"max_concurrent_runs\": 1,\n",
    "  \"tasks\": [\n",
    "    {\n",
    "      \"task_key\": \"Lookup_Locations\",\n",
    "      \"run_if\": \"ALL_SUCCESS\",\n",
    "      \"notebook_task\": {\n",
    "        \"notebook_path\": \"/Workspace/Netflix_Project/3_lookupNotebook\",\n",
    "        \"source\": \"WORKSPACE\"\n",
    "      },\n",
    "      \"existing_cluster_id\": \"0726-110223-hw0h6ik8\",\n",
    "      \"timeout_seconds\": 0,\n",
    "      \"email_notifications\": {},\n",
    "      \"webhook_notifications\": {}\n",
    "    },\n",
    "    {\n",
    "      \"task_key\": \"Silver_Notebook\",\n",
    "      \"depends_on\": [\n",
    "        {\n",
    "          \"task_key\": \"Lookup_Locations\"\n",
    "        }\n",
    "      ],\n",
    "      \"run_if\": \"ALL_SUCCESS\",\n",
    "      \"for_each_task\": {\n",
    "        \"inputs\": \"{{tasks.Lookup_Locations.values.my_array}}\",\n",
    "        \"task\": {\n",
    "          \"task_key\": \"Silver_Notebook_iteration\",\n",
    "          \"run_if\": \"ALL_SUCCESS\",\n",
    "          \"notebook_task\": {\n",
    "            \"notebook_path\": \"/Workspace/Netflix_Project/2_silver\",\n",
    "            \"base_parameters\": {\n",
    "              \"sourceFolder\": \"{{input.sourceFolder}}\",\n",
    "              \"targetFolder\": \"{{input.targetFolder}}\"\n",
    "            },\n",
    "            \"source\": \"WORKSPACE\"\n",
    "          },\n",
    "          \"existing_cluster_id\": \"0726-110223-hw0h6ik8\",\n",
    "          \"timeout_seconds\": 0,\n",
    "          \"email_notifications\": {},\n",
    "          \"webhook_notifications\": {}\n",
    "        }\n",
    "      },\n",
    "      \"timeout_seconds\": 0,\n",
    "      \"email_notifications\": {},\n",
    "      \"webhook_notifications\": {}\n",
    "    }\n",
    "  ],\n",
    "  \"queue\": {\n",
    "    \"enabled\": true\n",
    "  },\n",
    "  \"performance_target\": \"STANDARD\",\n",
    "  \"run_as\": {\n",
    "    \"user_name\": \"parassehwag@outlook.com\"\n",
    "  }\n",
    "}"
   ]
  }
 ],
 "metadata": {
  "application/vnd.databricks.v1+notebook": {
   "computePreferences": null,
   "dashboards": [],
   "environmentMetadata": {
    "base_environment": "",
    "environment_version": "2"
   },
   "inputWidgetPreferences": null,
   "language": "python",
   "notebookMetadata": {
    "pythonIndentUnit": 4
   },
   "notebookName": "Job1",
   "widgets": {}
  },
  "language_info": {
   "name": "python"
  }
 },
 "nbformat": 4,
 "nbformat_minor": 0
}
