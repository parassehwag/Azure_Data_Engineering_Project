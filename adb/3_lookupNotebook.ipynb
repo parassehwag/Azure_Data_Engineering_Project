{
 "cells": [
  {
   "cell_type": "markdown",
   "metadata": {
    "application/vnd.databricks.v1+cell": {
     "cellMetadata": {},
     "inputWidgets": {},
     "nuid": "e1b100b4-4be6-418b-80b4-9853d50b928f",
     "showTitle": false,
     "tableResultSettingsMap": {},
     "title": ""
    }
   },
   "source": [
    "###Array Parameter"
   ]
  },
  {
   "cell_type": "code",
   "execution_count": 0,
   "metadata": {
    "application/vnd.databricks.v1+cell": {
     "cellMetadata": {
      "byteLimit": 2048000,
      "rowLimit": 10000
     },
     "inputWidgets": {},
     "nuid": "0f9694ca-168d-4f4f-a758-e6f43cecfe5e",
     "showTitle": false,
     "tableResultSettingsMap": {},
     "title": ""
    }
   },
   "outputs": [],
   "source": [
    "files =[\n",
    "    {\n",
    "        \"sourceFolder\": \"netflix_directors\",\n",
    "        \"targetFolder\": \"netflix_directors\"\n",
    "\n",
    "    },\n",
    "    {\n",
    "        \"sourceFolder\": \"netflix_cast\",\n",
    "        \"targetFolder\": \"netflix_casts\"\n",
    "\n",
    "    },\n",
    "    {\n",
    "        \"sourceFolder\": \"netflix_countries\",\n",
    "        \"targetFolder\": \"netflix_countries\"\n",
    "\n",
    "    },\n",
    "    {\n",
    "        \"sourceFolder\": \"netflix_category\",\n",
    "        \"targetFolder\": \"netflix_category\"\n",
    "\n",
    "    },\n",
    "\n",
    "]"
   ]
  },
  {
   "cell_type": "markdown",
   "metadata": {
    "application/vnd.databricks.v1+cell": {
     "cellMetadata": {},
     "inputWidgets": {},
     "nuid": "aca8d6cc-9606-4f60-9512-15cdc17c4f88",
     "showTitle": false,
     "tableResultSettingsMap": {},
     "title": ""
    }
   },
   "source": [
    "###Job utlity to return the array"
   ]
  },
  {
   "cell_type": "code",
   "execution_count": 0,
   "metadata": {
    "application/vnd.databricks.v1+cell": {
     "cellMetadata": {
      "byteLimit": 2048000,
      "rowLimit": 10000
     },
     "inputWidgets": {},
     "nuid": "49d8258b-acab-4e80-a23c-f19fff776e83",
     "showTitle": false,
     "tableResultSettingsMap": {},
     "title": ""
    }
   },
   "outputs": [],
   "source": [
    "dbutils.jobs.taskValues.set(key = \"my_array\", value = files)"
   ]
  }
 ],
 "metadata": {
  "application/vnd.databricks.v1+notebook": {
   "computePreferences": null,
   "dashboards": [],
   "environmentMetadata": {
    "base_environment": "",
    "environment_version": "2"
   },
   "inputWidgetPreferences": null,
   "language": "python",
   "notebookMetadata": {
    "pythonIndentUnit": 4
   },
   "notebookName": "3_lookupNotebook",
   "widgets": {}
  },
  "language_info": {
   "name": "python"
  }
 },
 "nbformat": 4,
 "nbformat_minor": 0
}
